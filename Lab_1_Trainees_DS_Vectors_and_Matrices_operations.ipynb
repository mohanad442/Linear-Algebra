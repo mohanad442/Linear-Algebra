{
  "cells": [
    {
      "cell_type": "code",
      "execution_count": null,
      "id": "9c0d929f",
      "metadata": {
        "id": "9c0d929f"
      },
      "outputs": [],
      "source": [
        "import numpy as np"
      ]
    },
    {
      "cell_type": "markdown",
      "id": "c56a1fa4",
      "metadata": {
        "id": "c56a1fa4"
      },
      "source": [
        "### Practice some NumPy commands:\n",
        "- Create 3 * 3 array.\n",
        "- Check its shape.\n",
        "- Select first row.\n",
        "- Select 2nd column.\n",
        "- Select the 2nd element in the third column.\n",
        "- Create 2*2 from the first two elements of the first 2 rows and columns.\n",
        "- Create single row vector.\n",
        "- Create single column vector."
      ]
    },
    {
      "cell_type": "code",
      "execution_count": null,
      "id": "c3779cf5",
      "metadata": {
        "id": "c3779cf5"
      },
      "outputs": [],
      "source": [
        "array = np.array([[1,2,3],[4,5,6],[7,8,9]])"
      ]
    },
    {
      "cell_type": "code",
      "execution_count": null,
      "id": "ead61b4e",
      "metadata": {
        "id": "ead61b4e",
        "outputId": "eac37478-4900-4b83-afa7-e92e9b4c219f"
      },
      "outputs": [
        {
          "data": {
            "text/plain": [
              "(3, 3)"
            ]
          },
          "execution_count": 5,
          "metadata": {},
          "output_type": "execute_result"
        }
      ],
      "source": [
        "array.shape"
      ]
    },
    {
      "cell_type": "code",
      "execution_count": null,
      "id": "9728f6c0",
      "metadata": {
        "id": "9728f6c0",
        "outputId": "a2c0c911-78cf-4219-cf9e-bf15a558bc0e"
      },
      "outputs": [
        {
          "data": {
            "text/plain": [
              "array([1, 2, 3])"
            ]
          },
          "execution_count": 6,
          "metadata": {},
          "output_type": "execute_result"
        }
      ],
      "source": [
        "array[0]"
      ]
    },
    {
      "cell_type": "code",
      "execution_count": null,
      "id": "129ce821",
      "metadata": {
        "id": "129ce821",
        "outputId": "9fee7f2d-f1c0-4e71-dc62-6e4057f08a25"
      },
      "outputs": [
        {
          "data": {
            "text/plain": [
              "array([2, 5, 8])"
            ]
          },
          "execution_count": 7,
          "metadata": {},
          "output_type": "execute_result"
        }
      ],
      "source": [
        "array[:,1]"
      ]
    },
    {
      "cell_type": "code",
      "execution_count": null,
      "id": "24ef9db6",
      "metadata": {
        "id": "24ef9db6",
        "outputId": "73ef44be-660e-4384-aab1-2cf44c46abe7"
      },
      "outputs": [
        {
          "data": {
            "text/plain": [
              "6"
            ]
          },
          "execution_count": 8,
          "metadata": {},
          "output_type": "execute_result"
        }
      ],
      "source": [
        "array[:,2][1]"
      ]
    },
    {
      "cell_type": "code",
      "execution_count": null,
      "id": "b3b148e8",
      "metadata": {
        "id": "b3b148e8"
      },
      "outputs": [],
      "source": [
        "sub_array = array[:2,:2]"
      ]
    },
    {
      "cell_type": "code",
      "execution_count": null,
      "id": "33056af6",
      "metadata": {
        "id": "33056af6",
        "outputId": "8cc8025c-3ec5-48c2-e7ce-facce08f876d"
      },
      "outputs": [
        {
          "data": {
            "text/plain": [
              "array([[1, 2],\n",
              "       [4, 5]])"
            ]
          },
          "execution_count": 10,
          "metadata": {},
          "output_type": "execute_result"
        }
      ],
      "source": [
        "sub_array"
      ]
    },
    {
      "cell_type": "code",
      "execution_count": null,
      "id": "5239169d",
      "metadata": {
        "id": "5239169d"
      },
      "outputs": [],
      "source": [
        "row_vector = np.array([1,2,3,4])"
      ]
    },
    {
      "cell_type": "code",
      "execution_count": null,
      "id": "8c6cc581",
      "metadata": {
        "id": "8c6cc581",
        "outputId": "4fb19770-a307-4860-8fe2-d218d2186256"
      },
      "outputs": [
        {
          "data": {
            "text/plain": [
              "array([1, 2, 3, 4])"
            ]
          },
          "execution_count": 12,
          "metadata": {},
          "output_type": "execute_result"
        }
      ],
      "source": [
        "row_vector"
      ]
    },
    {
      "cell_type": "code",
      "execution_count": null,
      "id": "f83f658d",
      "metadata": {
        "id": "f83f658d"
      },
      "outputs": [],
      "source": [
        "col_vector = np.array([[1],[2],[3]])"
      ]
    },
    {
      "cell_type": "code",
      "execution_count": null,
      "id": "8028af65",
      "metadata": {
        "id": "8028af65",
        "outputId": "c97e65e1-82df-4d59-c7dd-46bece45a44d"
      },
      "outputs": [
        {
          "data": {
            "text/plain": [
              "array([[1],\n",
              "       [2],\n",
              "       [3]])"
            ]
          },
          "execution_count": 14,
          "metadata": {},
          "output_type": "execute_result"
        }
      ],
      "source": [
        "col_vector"
      ]
    },
    {
      "cell_type": "markdown",
      "id": "935d4b46",
      "metadata": {
        "id": "935d4b46"
      },
      "source": [
        "## Represent in paper and as numpy arrays Ax=b\n",
        "![image.png](attachment:image.png)"
      ]
    },
    {
      "cell_type": "code",
      "execution_count": null,
      "id": "fd76ca8b",
      "metadata": {
        "id": "fd76ca8b"
      },
      "outputs": [],
      "source": [
        "A = np.array([[3, -1], [1, 0]])\n",
        "b = np.array([[2], [4]])"
      ]
    },
    {
      "cell_type": "code",
      "execution_count": null,
      "id": "bbf96e3f",
      "metadata": {
        "id": "bbf96e3f"
      },
      "outputs": [],
      "source": [
        "X = np.linalg.inv(A) @ b"
      ]
    },
    {
      "cell_type": "code",
      "execution_count": null,
      "id": "bd40a548",
      "metadata": {
        "id": "bd40a548",
        "outputId": "54482447-25a6-49ef-ecdb-2777d118203f"
      },
      "outputs": [
        {
          "data": {
            "text/plain": [
              "array([[ 4.],\n",
              "       [10.]])"
            ]
          },
          "execution_count": 32,
          "metadata": {},
          "output_type": "execute_result"
        }
      ],
      "source": [
        "X"
      ]
    },
    {
      "cell_type": "code",
      "execution_count": null,
      "id": "4efee6e2",
      "metadata": {
        "id": "4efee6e2"
      },
      "outputs": [],
      "source": [
        "A = np.array([[3, -2], [2, -2]])\n",
        "b = np.array([[7], [2]])"
      ]
    },
    {
      "cell_type": "code",
      "execution_count": null,
      "id": "55b59b42",
      "metadata": {
        "id": "55b59b42",
        "outputId": "5a681b0b-41c1-4f7f-8b22-fdcc56859bf4"
      },
      "outputs": [
        {
          "data": {
            "text/plain": [
              "array([[5.],\n",
              "       [4.]])"
            ]
          },
          "execution_count": 34,
          "metadata": {},
          "output_type": "execute_result"
        }
      ],
      "source": [
        "X = np.linalg.inv(A) @ b\n",
        "X"
      ]
    },
    {
      "cell_type": "code",
      "execution_count": null,
      "id": "d4b5861d",
      "metadata": {
        "id": "d4b5861d"
      },
      "outputs": [],
      "source": [
        "A = np.array([[3, -2, 1], [1, 1, 1], [3, -2, -1]])\n",
        "b = np.array([[7], [2], [3]])"
      ]
    },
    {
      "cell_type": "code",
      "execution_count": null,
      "id": "96b3f002",
      "metadata": {
        "id": "96b3f002",
        "outputId": "adb17f1c-beef-4f1c-a368-55fa9efe4f77"
      },
      "outputs": [
        {
          "data": {
            "text/plain": [
              "array([[ 1.],\n",
              "       [-1.],\n",
              "       [ 2.]])"
            ]
          },
          "execution_count": 37,
          "metadata": {},
          "output_type": "execute_result"
        }
      ],
      "source": [
        "X = np.linalg.inv(A) @ b\n",
        "X"
      ]
    },
    {
      "cell_type": "markdown",
      "id": "35de5d9a",
      "metadata": {
        "id": "35de5d9a"
      },
      "source": [
        "### Using numpy arrays\n",
        "- Multiply matrix <b>A</b> and vector <b>x</b> and make sure the result is <b>b</b> from the above exercise."
      ]
    },
    {
      "cell_type": "code",
      "execution_count": null,
      "id": "3cc9cd71",
      "metadata": {
        "id": "3cc9cd71",
        "outputId": "71838615-8d31-4332-b971-f787caf773e6"
      },
      "outputs": [
        {
          "data": {
            "text/plain": [
              "array([[7],\n",
              "       [2],\n",
              "       [3]])"
            ]
          },
          "execution_count": 38,
          "metadata": {},
          "output_type": "execute_result"
        }
      ],
      "source": [
        "b"
      ]
    },
    {
      "cell_type": "code",
      "execution_count": null,
      "id": "56b2f1e0",
      "metadata": {
        "id": "56b2f1e0",
        "outputId": "d372fc69-2432-43c1-a985-c4b2c995b74b"
      },
      "outputs": [
        {
          "data": {
            "text/plain": [
              "array([[7.],\n",
              "       [2.],\n",
              "       [3.]])"
            ]
          },
          "execution_count": 39,
          "metadata": {},
          "output_type": "execute_result"
        }
      ],
      "source": [
        "A @ X"
      ]
    },
    {
      "cell_type": "markdown",
      "id": "053d9605",
      "metadata": {
        "id": "053d9605"
      },
      "source": [
        "## Calculate in paper then confirm your results using numpy linalg.norm().\n",
        "![image.png](attachment:image.png)"
      ]
    },
    {
      "cell_type": "code",
      "execution_count": null,
      "id": "5276012c",
      "metadata": {
        "id": "5276012c"
      },
      "outputs": [],
      "source": [
        "from numpy.linalg import norm\n",
        "from numpy import inf\n",
        "\n",
        "array1 = np.array([1,2,3])\n",
        "array2 = np.array([3,3,1,3])\n",
        "array3 = np.array([2,3,4])"
      ]
    },
    {
      "cell_type": "code",
      "execution_count": null,
      "id": "30d8a1cb",
      "metadata": {
        "id": "30d8a1cb"
      },
      "outputs": [],
      "source": [
        "norm1 = norm(array1, 1)\n",
        "norm2 = norm(array1, 2)\n",
        "norm_max = norm(array1, inf)"
      ]
    },
    {
      "cell_type": "code",
      "execution_count": null,
      "id": "14ca31ba",
      "metadata": {
        "id": "14ca31ba",
        "outputId": "3a2f4acf-a073-4808-827e-60f88287bfb0"
      },
      "outputs": [
        {
          "name": "stdout",
          "output_type": "stream",
          "text": [
            "6.0\n",
            "3.7416573867739413\n",
            "3.0\n"
          ]
        }
      ],
      "source": [
        "print(norm1)\n",
        "print(norm2)\n",
        "print(norm_max)"
      ]
    },
    {
      "cell_type": "code",
      "execution_count": null,
      "id": "55abc612",
      "metadata": {
        "id": "55abc612",
        "outputId": "bc4006e2-f501-4a8c-a7e0-601c3bc4c863"
      },
      "outputs": [
        {
          "data": {
            "text/plain": [
              "4.626065009182741"
            ]
          },
          "execution_count": 46,
          "metadata": {},
          "output_type": "execute_result"
        }
      ],
      "source": [
        "norm3 = norm(array3, 3)\n",
        "norm3"
      ]
    },
    {
      "cell_type": "code",
      "execution_count": null,
      "id": "1da57d2c",
      "metadata": {
        "id": "1da57d2c"
      },
      "outputs": [],
      "source": []
    },
    {
      "cell_type": "markdown",
      "id": "4a09c2e3",
      "metadata": {
        "id": "4a09c2e3"
      },
      "source": [
        "## Calculate in paper then confirm your results using numpy.\n",
        "### Calculate L1, L2, L3, and Lmax for the following vectors:\n",
        "### [5,6], [4,3,2], [4,3,2,8,9]."
      ]
    },
    {
      "cell_type": "code",
      "execution_count": null,
      "id": "7f44e5fa",
      "metadata": {
        "id": "7f44e5fa"
      },
      "outputs": [],
      "source": [
        "array1 = np.array([5,6])\n",
        "array2 = np.array([4,3,2])\n",
        "array3 = np.array([4,3,2,8,9])"
      ]
    },
    {
      "cell_type": "code",
      "execution_count": null,
      "id": "bf10c457",
      "metadata": {
        "id": "bf10c457"
      },
      "outputs": [],
      "source": [
        "norm1 = norm(array1, 1)\n",
        "norm2 = norm(array1, 2)\n",
        "norm3 = norm(array3, 3)\n",
        "norm_max = norm(array1, inf)"
      ]
    },
    {
      "cell_type": "code",
      "execution_count": null,
      "id": "1da56d52",
      "metadata": {
        "id": "1da56d52",
        "outputId": "b623b8f0-d6b0-46ff-da54-c873390005c9"
      },
      "outputs": [
        {
          "name": "stdout",
          "output_type": "stream",
          "text": [
            "11.0\n",
            "7.810249675906654\n",
            "11.02473771449733\n",
            "6.0\n"
          ]
        }
      ],
      "source": [
        "print(norm1)\n",
        "print(norm2)\n",
        "print(norm3)\n",
        "print(norm_max)"
      ]
    },
    {
      "cell_type": "markdown",
      "id": "9560b90d",
      "metadata": {
        "id": "9560b90d"
      },
      "source": [
        "## Calculate in paper then confirm your results using numpy.\n",
        "![image.png](attachment:image.png)"
      ]
    },
    {
      "cell_type": "code",
      "execution_count": null,
      "id": "41a3caa6",
      "metadata": {
        "id": "41a3caa6"
      },
      "outputs": [],
      "source": [
        "arr1 = np.array([2, -1, 5, 0])\n",
        "arr2 = np.array([4, -3, 1, -1])"
      ]
    },
    {
      "cell_type": "code",
      "execution_count": null,
      "id": "f02ca8ca",
      "metadata": {
        "id": "f02ca8ca",
        "outputId": "537891f9-92ba-4465-d9e1-48a678a6a9ae"
      },
      "outputs": [
        {
          "data": {
            "text/plain": [
              "16"
            ]
          },
          "execution_count": 52,
          "metadata": {},
          "output_type": "execute_result"
        }
      ],
      "source": [
        "res = arr1 @ arr2\n",
        "res"
      ]
    },
    {
      "cell_type": "code",
      "execution_count": null,
      "id": "f60b455f",
      "metadata": {
        "id": "f60b455f"
      },
      "outputs": [],
      "source": [
        "arr1 = np.array([3, 2, -1, 4])\n",
        "arr2 = np.array([1, -1, 1, 0])"
      ]
    },
    {
      "cell_type": "code",
      "execution_count": null,
      "id": "44e33eae",
      "metadata": {
        "id": "44e33eae"
      },
      "outputs": [],
      "source": [
        "# (3*1) + (2*-1) + (-1 * 1) + (4 * 0) = 3 - 2 -1 + 0 = 0"
      ]
    },
    {
      "cell_type": "code",
      "execution_count": null,
      "id": "dda45e45",
      "metadata": {
        "id": "dda45e45",
        "outputId": "6ed2f95b-4d09-419f-9fd8-87de22bfe546"
      },
      "outputs": [
        {
          "data": {
            "text/plain": [
              "0"
            ]
          },
          "execution_count": 56,
          "metadata": {},
          "output_type": "execute_result"
        }
      ],
      "source": [
        "arr1 @ arr2"
      ]
    },
    {
      "cell_type": "markdown",
      "id": "f56c9a66",
      "metadata": {
        "id": "f56c9a66"
      },
      "source": [
        "## Calculate in paper then confirm your results using numpy.\n",
        "### Create two vectors in 2, 3, and 4 dimensions.\n",
        "### Perform vector addition, subtraction, and dot product of these vectors."
      ]
    },
    {
      "cell_type": "code",
      "execution_count": null,
      "id": "09aabfe1",
      "metadata": {
        "id": "09aabfe1"
      },
      "outputs": [],
      "source": [
        "arr1 = np.array([1,2])\n",
        "arr2 = np.array([3,5])"
      ]
    },
    {
      "cell_type": "code",
      "execution_count": null,
      "id": "30bd8098",
      "metadata": {
        "id": "30bd8098",
        "outputId": "dcb8963f-93e7-4fd2-e58e-2556800d6bae"
      },
      "outputs": [
        {
          "name": "stdout",
          "output_type": "stream",
          "text": [
            "[4 7]\n",
            "13\n",
            "[-2 -3]\n"
          ]
        }
      ],
      "source": [
        "print(arr1 + arr2)    # 1+3, 2+5\n",
        "print(arr1 @ arr2)    # (1*3) + (2*5) = 13\n",
        "print(arr1 - arr2)    # 1-3, 2-5"
      ]
    },
    {
      "cell_type": "code",
      "execution_count": null,
      "id": "fbbb5183",
      "metadata": {
        "id": "fbbb5183",
        "outputId": "e65915a2-56a7-4faa-e4b4-274394a1a33a"
      },
      "outputs": [
        {
          "name": "stdout",
          "output_type": "stream",
          "text": [
            "[4 7]\n",
            "13\n",
            "[-2 -3]\n"
          ]
        }
      ],
      "source": [
        "print(arr1 + arr2)    # 1+3, 2+5\n",
        "print(arr1 @ arr2)    # (1*3) + (2*5) = 13\n",
        "print(arr1 - arr2)    # 1-3, 2-5"
      ]
    },
    {
      "cell_type": "code",
      "execution_count": null,
      "id": "2f36f878",
      "metadata": {
        "id": "2f36f878"
      },
      "outputs": [],
      "source": [
        "arr1 = np.array([2, -1, 5, 0])\n",
        "arr2 = np.array([4, -3, 1, -1])"
      ]
    },
    {
      "cell_type": "code",
      "execution_count": null,
      "id": "c1dd9f08",
      "metadata": {
        "id": "c1dd9f08",
        "outputId": "efc8ecc1-6239-4197-c69e-a1d9095d3ff9"
      },
      "outputs": [
        {
          "name": "stdout",
          "output_type": "stream",
          "text": [
            "[ 6 -4  6 -1]\n",
            "16\n",
            "[-2  2  4  1]\n"
          ]
        }
      ],
      "source": [
        "print(arr1 + arr2)    # 2+4, -1-3, 5+1, 0-1\n",
        "print(arr1 @ arr2)    # (2*4) + (-1*-3) + (5*1) + (0 * -1) = 16\n",
        "print(arr1 - arr2)    # 2-4, -1+3, 5-1, 0+1"
      ]
    },
    {
      "cell_type": "markdown",
      "id": "7c857d78",
      "metadata": {
        "id": "7c857d78"
      },
      "source": [
        "## Calculate in paper then confirm your results using numpy.\n",
        "![image.png](attachment:image.png)"
      ]
    },
    {
      "cell_type": "markdown",
      "id": "14a22322",
      "metadata": {
        "id": "14a22322"
      },
      "source": [
        "## Different Types of Matrices\n",
        "#### Create 3 by 3 and 4 by 4 identity matrices "
      ]
    },
    {
      "cell_type": "code",
      "execution_count": null,
      "id": "5aab96c8",
      "metadata": {
        "id": "5aab96c8",
        "outputId": "44c99140-7048-4e6a-ca96-ebf3bc6971a8"
      },
      "outputs": [
        {
          "data": {
            "text/plain": [
              "array([[ 5, 14],\n",
              "       [ 2, 17]])"
            ]
          },
          "execution_count": 67,
          "metadata": {},
          "output_type": "execute_result"
        }
      ],
      "source": [
        "A = np.array([[3, 1, 0], [2, 1, 2]])\n",
        "B = np.array([[1,3], [2, 5], [-1, 3]])\n",
        "C = A @ B\n",
        "C"
      ]
    },
    {
      "cell_type": "code",
      "execution_count": null,
      "id": "bca0af49",
      "metadata": {
        "id": "bca0af49",
        "outputId": "2453b9aa-321a-44f2-db0b-7b0d6fc0f8b4"
      },
      "outputs": [
        {
          "data": {
            "text/plain": [
              "array([[ 5,  2],\n",
              "       [14, 17]])"
            ]
          },
          "execution_count": 68,
          "metadata": {},
          "output_type": "execute_result"
        }
      ],
      "source": [
        "C.T"
      ]
    },
    {
      "cell_type": "markdown",
      "id": "5a75e4e1",
      "metadata": {
        "id": "5a75e4e1"
      },
      "source": [
        "#### Create a diagonal matrix contains [2,4,5,11] numbers in it's diagonal."
      ]
    },
    {
      "cell_type": "code",
      "execution_count": null,
      "id": "82afeea3",
      "metadata": {
        "id": "82afeea3",
        "outputId": "2fcffcc0-6985-45fc-b756-27613431f4c2"
      },
      "outputs": [
        {
          "data": {
            "text/plain": [
              "array([[ 2,  0,  0,  0],\n",
              "       [ 0,  4,  0,  0],\n",
              "       [ 0,  0,  5,  0],\n",
              "       [ 0,  0,  0, 11]])"
            ]
          },
          "execution_count": 69,
          "metadata": {},
          "output_type": "execute_result"
        }
      ],
      "source": [
        "v = np.array([2, 4, 5, 11])\n",
        "np.diag(v)"
      ]
    },
    {
      "cell_type": "markdown",
      "id": "cb1e9b3b",
      "metadata": {
        "id": "cb1e9b3b"
      },
      "source": [
        "#### Create a 5 by 5 scalar matrix of number 7"
      ]
    },
    {
      "cell_type": "code",
      "execution_count": null,
      "id": "5f55c986",
      "metadata": {
        "id": "5f55c986",
        "outputId": "48c4bed3-254d-4a96-f0b2-2c25e2675a3c"
      },
      "outputs": [
        {
          "data": {
            "text/plain": [
              "array([[7., 0., 0.],\n",
              "       [0., 7., 0.],\n",
              "       [0., 0., 7.]])"
            ]
          },
          "execution_count": 72,
          "metadata": {},
          "output_type": "execute_result"
        }
      ],
      "source": [
        "np.eye(3)*7"
      ]
    },
    {
      "cell_type": "markdown",
      "id": "8d931850",
      "metadata": {
        "id": "8d931850"
      },
      "source": [
        "#### Using SymPy get the rref of the following matrices"
      ]
    },
    {
      "cell_type": "code",
      "execution_count": null,
      "id": "3316ee5c",
      "metadata": {
        "scrolled": true,
        "id": "3316ee5c"
      },
      "outputs": [],
      "source": [
        "from sympy import *"
      ]
    },
    {
      "cell_type": "code",
      "execution_count": null,
      "id": "b9322cd9",
      "metadata": {
        "id": "b9322cd9"
      },
      "outputs": [],
      "source": [
        "arr = Matrix([[1,0,1,3],[2,3,4,7],[-1,-3,-3,-4]])"
      ]
    },
    {
      "cell_type": "code",
      "execution_count": null,
      "id": "1ba464af",
      "metadata": {
        "id": "1ba464af",
        "outputId": "45c9cb7a-a551-4fa8-d429-f3ca5320e70d"
      },
      "outputs": [
        {
          "data": {
            "text/plain": [
              "(Matrix([\n",
              " [1, 0,   1,   3],\n",
              " [0, 1, 2/3, 1/3],\n",
              " [0, 0,   0,   0]]),\n",
              " (0, 1))"
            ]
          },
          "execution_count": 79,
          "metadata": {},
          "output_type": "execute_result"
        }
      ],
      "source": [
        "arr.rref()"
      ]
    },
    {
      "cell_type": "markdown",
      "id": "df266b94",
      "metadata": {
        "id": "df266b94"
      },
      "source": [
        "#### Find the solution of the following system of linear equation using SymPy Matrix rref()"
      ]
    },
    {
      "cell_type": "markdown",
      "id": "dbb95d0c",
      "metadata": {
        "id": "dbb95d0c"
      },
      "source": [
        "![image-2.png](attachment:image-2.png)\n",
        "![image-3.png](attachment:image-3.png)"
      ]
    },
    {
      "cell_type": "code",
      "execution_count": null,
      "id": "bac04799",
      "metadata": {
        "id": "bac04799"
      },
      "outputs": [],
      "source": []
    },
    {
      "cell_type": "code",
      "execution_count": null,
      "id": "f79835cf",
      "metadata": {
        "id": "f79835cf"
      },
      "outputs": [],
      "source": []
    },
    {
      "cell_type": "code",
      "execution_count": null,
      "id": "a737471c",
      "metadata": {
        "id": "a737471c"
      },
      "outputs": [],
      "source": []
    },
    {
      "cell_type": "markdown",
      "id": "a450fb94",
      "metadata": {
        "id": "a450fb94"
      },
      "source": [
        "#### Find the solution of the following system of linear equation \n",
        "- By hand (Paper and pen)\n",
        "- Confirm your answer using SymPy Matrix rref()\n",
        "\n",
        "![image.png](attachment:image.png)\n",
        "![image-2.png](attachment:image-2.png)\n",
        "![image-3.png](attachment:image-3.png)\n",
        "![image-5.png](attachment:image-5.png)"
      ]
    },
    {
      "cell_type": "code",
      "execution_count": null,
      "id": "4c17cc14",
      "metadata": {
        "id": "4c17cc14"
      },
      "outputs": [],
      "source": []
    },
    {
      "cell_type": "code",
      "execution_count": null,
      "id": "5dd24d62",
      "metadata": {
        "id": "5dd24d62"
      },
      "outputs": [],
      "source": []
    },
    {
      "cell_type": "code",
      "execution_count": null,
      "id": "8a2f0399",
      "metadata": {
        "id": "8a2f0399"
      },
      "outputs": [],
      "source": []
    },
    {
      "cell_type": "code",
      "execution_count": null,
      "id": "1e9eb2b6",
      "metadata": {
        "id": "1e9eb2b6"
      },
      "outputs": [],
      "source": []
    }
  ],
  "metadata": {
    "kernelspec": {
      "display_name": "Python 3 (ipykernel)",
      "language": "python",
      "name": "python3"
    },
    "language_info": {
      "codemirror_mode": {
        "name": "ipython",
        "version": 3
      },
      "file_extension": ".py",
      "mimetype": "text/x-python",
      "name": "python",
      "nbconvert_exporter": "python",
      "pygments_lexer": "ipython3",
      "version": "3.9.7"
    },
    "colab": {
      "provenance": []
    }
  },
  "nbformat": 4,
  "nbformat_minor": 5
}